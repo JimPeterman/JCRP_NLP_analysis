{
 "cells": [
  {
   "cell_type": "code",
   "execution_count": 7,
   "id": "c2ad6e97",
   "metadata": {},
   "outputs": [],
   "source": [
    "import pandas as pd\n",
    "import pickle\n",
    "import numpy as np\n",
    "\n",
    "# from sklearn.feature_extraction.text import CountVectorizer, TfidfVectorizer\n",
    "# from sklearn.decomposition import TruncatedSVD, NMF\n",
    "# from corextopic import corextopic as ct\n",
    "\n",
    "# from vaderSentiment.vaderSentiment import SentimentIntensityAnalyzer\n",
    "\n",
    "import spacy\n",
    "nlp = spacy.load('en_core_web_sm')\n",
    "\n",
    "# import matplotlib.pyplot as plt\n",
    "# import seaborn as sns\n",
    "\n",
    "import scattertext as st\n"
   ]
  },
  {
   "cell_type": "code",
   "execution_count": 2,
   "id": "b831e4e2",
   "metadata": {},
   "outputs": [],
   "source": [
    "# # Import the different sheets.\n",
    "\n",
    "# yrs = [\"2019\", \"2020\"]\n",
    "# df = pd.DataFrame()\n",
    "\n",
    "# for sheet in yrs:\n",
    "#     temp_df = pd.read_excel(\"../data/2019 - 2020 JCRP Metrics -EB.xlsx\", \n",
    "#                    sheet_name = sheet)\n",
    "#     df = pd.concat([df, temp_df])\n",
    "    \n",
    "# df = df.dropna(axis=0, how=\"all\")\n",
    "\n",
    "# # A lot of the Title entries are \"Selected Abstracts...\" and are from \"Literature Update\" article types.\n",
    "# # However, the Vol 40 doesn't have article type so have to look through titles.\n",
    "\n",
    "# df = df[df[\"Title\"].str.contains(\"Selected Abstracts From Recent Publications\") == False]"
   ]
  },
  {
   "cell_type": "code",
   "execution_count": 3,
   "id": "e2af27e3",
   "metadata": {},
   "outputs": [],
   "source": [
    "with open(\"../data/dataframe_with_abstracts.pickle\", \"rb\") as read_file:\n",
    "    df = pickle.load(read_file)"
   ]
  },
  {
   "cell_type": "code",
   "execution_count": 4,
   "id": "d5d5f924",
   "metadata": {},
   "outputs": [],
   "source": [
    "# Create a rank according to Twitter popularity.\n",
    "\n",
    "df[\"twitter_rank\"] = df.Tweets.rank(pct=True)"
   ]
  },
  {
   "cell_type": "code",
   "execution_count": 5,
   "id": "1712574d",
   "metadata": {},
   "outputs": [],
   "source": [
    "df_bottom_tweets = df.query(\"twitter_rank < 0.33\")\n",
    "# docs_list_bottom = [' '.join(doc) for doc in df_bottom_tweets['docs_clean']]\n",
    "\n",
    "\n",
    "df_top_tweets = df.query(\"twitter_rank > 0.67\")\n",
    "# docs_list_top = [' '.join(doc) for doc in df_top_tweets['docs_clean']]\n"
   ]
  },
  {
   "cell_type": "code",
   "execution_count": null,
   "id": "3cc1e3f9",
   "metadata": {},
   "outputs": [],
   "source": [
    "df_scatter = pd.concat([df_bottom_tweets[[\"twitter_rank\", \"Full_Abstract\"]], \n",
    "                        df_top_tweets[[\"twitter_rank\", \"Full_Abstract\"]]])\n",
    "\n",
    "df_scatter[\"Popularity\"] = df_scatter.twitter_rank.map(lambda x: \"Top\" if x>0.5 else \"Bottom\")\n"
   ]
  },
  {
   "cell_type": "code",
   "execution_count": null,
   "id": "1c42234e",
   "metadata": {},
   "outputs": [],
   "source": []
  },
  {
   "cell_type": "markdown",
   "id": "6ef29ce6",
   "metadata": {},
   "source": [
    "## Look at top words by popularity."
   ]
  },
  {
   "cell_type": "code",
   "execution_count": 40,
   "id": "4aaf2b80",
   "metadata": {},
   "outputs": [],
   "source": [
    "# Build the corpus.\n",
    "\n",
    "corpus = st.CorpusFromPandas(\n",
    "    df_scatter,\n",
    "    category_col =  \"Popularity\",\n",
    "    text_col = \"Full_Abstract\", \n",
    "    nlp=nlp\n",
    ").build()"
   ]
  },
  {
   "cell_type": "code",
   "execution_count": 43,
   "id": "559e6ead",
   "metadata": {},
   "outputs": [],
   "source": [
    "# Create the HTML.\n",
    "\n",
    "html = st.produce_scattertext_explorer(\n",
    "        corpus,\n",
    "        category= \"Top\", \n",
    "        category_name=  \"Top\", \n",
    "        not_category_name= \"Bottom\", \n",
    "        minimum_term_frequency=6,\n",
    "        pmi_threshold_coefficient=0,\n",
    "        width_in_pixels=1000,\n",
    "        )"
   ]
  },
  {
   "cell_type": "code",
   "execution_count": 45,
   "id": "0f8abcc2",
   "metadata": {},
   "outputs": [],
   "source": [
    "# Explore the HTML.\n",
    "\n",
    "open('../images/abstract_popularity_words.html', 'wb').write(html.encode('utf-8'));"
   ]
  },
  {
   "cell_type": "code",
   "execution_count": null,
   "id": "ab3a8e17",
   "metadata": {},
   "outputs": [],
   "source": []
  },
  {
   "cell_type": "markdown",
   "id": "0389ec2c",
   "metadata": {},
   "source": [
    "## Look at top phrases between popularity."
   ]
  },
  {
   "cell_type": "code",
   "execution_count": 36,
   "id": "b68a2a41",
   "metadata": {},
   "outputs": [],
   "source": [
    "# Create the corpus.\n",
    "\n",
    "corpus = st.CorpusFromPandas(\n",
    "    df_scatter,\n",
    "    category_col =  \"Popularity\",\n",
    "    text_col = \"Full_Abstract\", \n",
    "    feats_from_spacy_doc=st.PhraseMachinePhrases(),\n",
    "    nlp=nlp\n",
    ").build().compact(st.AssociationCompactor(4000))"
   ]
  },
  {
   "cell_type": "code",
   "execution_count": 38,
   "id": "c1a68edb",
   "metadata": {},
   "outputs": [],
   "source": [
    "# Create the HTML.\n",
    "\n",
    "html = st.produce_scattertext_explorer(\n",
    "        corpus,\n",
    "        category= \"Top\", \n",
    "        category_name=  \"Top\", \n",
    "        not_category_name= \"Bottom\", \n",
    "        minimum_term_frequency=0,\n",
    "        pmi_threshold_coefficient=0,\n",
    "        transform=st.dense_rank,\n",
    "        term_scorer=st.RankDifference(),\n",
    "        width_in_pixels=1000,\n",
    "        )"
   ]
  },
  {
   "cell_type": "code",
   "execution_count": 39,
   "id": "ff1d5c96",
   "metadata": {},
   "outputs": [],
   "source": [
    "# Explore the HTML.\n",
    "\n",
    "open('../images/abstract_popularity_phrases.html', 'wb').write(html.encode('utf-8'));"
   ]
  },
  {
   "cell_type": "code",
   "execution_count": null,
   "id": "5297313d",
   "metadata": {},
   "outputs": [],
   "source": []
  },
  {
   "cell_type": "code",
   "execution_count": null,
   "id": "c78def4a",
   "metadata": {},
   "outputs": [],
   "source": []
  },
  {
   "cell_type": "code",
   "execution_count": null,
   "id": "d6b6da66",
   "metadata": {},
   "outputs": [],
   "source": []
  }
 ],
 "metadata": {
  "kernelspec": {
   "display_name": "Python 3",
   "language": "python",
   "name": "python3"
  },
  "language_info": {
   "codemirror_mode": {
    "name": "ipython",
    "version": 3
   },
   "file_extension": ".py",
   "mimetype": "text/x-python",
   "name": "python",
   "nbconvert_exporter": "python",
   "pygments_lexer": "ipython3",
   "version": "3.8.11"
  }
 },
 "nbformat": 4,
 "nbformat_minor": 5
}
