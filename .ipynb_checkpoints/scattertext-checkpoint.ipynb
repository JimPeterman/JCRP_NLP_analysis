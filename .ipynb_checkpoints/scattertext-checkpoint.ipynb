{
 "cells": [
  {
   "cell_type": "code",
   "execution_count": 1,
   "id": "c2ad6e97",
   "metadata": {},
   "outputs": [],
   "source": [
    "import pandas as pd\n",
    "import pickle\n",
    "import numpy as np\n",
    "\n",
    "import spacy\n",
    "nlp = spacy.load('en_core_web_sm')\n",
    "\n",
    "import scattertext as st\n"
   ]
  },
  {
   "cell_type": "code",
   "execution_count": 2,
   "id": "b831e4e2",
   "metadata": {},
   "outputs": [],
   "source": [
    "# # Import the different sheets.\n",
    "\n",
    "# yrs = [\"2019\", \"2020\"]\n",
    "# df = pd.DataFrame()\n",
    "\n",
    "# for sheet in yrs:\n",
    "#     temp_df = pd.read_excel(\"../data/2019 - 2020 JCRP Metrics -EB.xlsx\", \n",
    "#                    sheet_name = sheet)\n",
    "#     df = pd.concat([df, temp_df])\n",
    "    \n",
    "# df = df.dropna(axis=0, how=\"all\")\n",
    "\n",
    "# # A lot of the Title entries are \"Selected Abstracts...\" and are from \"Literature Update\" article types.\n",
    "# # However, the Vol 40 doesn't have article type so have to look through titles.\n",
    "\n",
    "# df = df[df[\"Title\"].str.contains(\"Selected Abstracts From Recent Publications\") == False]"
   ]
  },
  {
   "cell_type": "code",
   "execution_count": 3,
   "id": "e2af27e3",
   "metadata": {},
   "outputs": [],
   "source": [
    "with open(\"../data/dataframe_with_abstracts.pickle\", \"rb\") as read_file:\n",
    "    df = pickle.load(read_file)"
   ]
  },
  {
   "cell_type": "code",
   "execution_count": null,
   "id": "fe9638d3",
   "metadata": {},
   "outputs": [],
   "source": []
  },
  {
   "cell_type": "markdown",
   "id": "bf6d4249",
   "metadata": {},
   "source": [
    "# Abstracts\n",
    "---"
   ]
  },
  {
   "cell_type": "markdown",
   "id": "6ef29ce6",
   "metadata": {},
   "source": [
    "### Look at top words by popularity."
   ]
  },
  {
   "cell_type": "code",
   "execution_count": 4,
   "id": "3be626de",
   "metadata": {},
   "outputs": [],
   "source": [
    "# Create a rank according to Twitter popularity.\n",
    "\n",
    "df[\"twitter_rank\"] = df.Tweets.rank(pct=True)\n",
    "\n",
    "# Split into two datasets based on twitter rank.\n",
    "df_bottom_tweets = df.query(\"twitter_rank < 0.33\")\n",
    "df_top_tweets = df.query(\"twitter_rank > 0.67\")"
   ]
  },
  {
   "cell_type": "code",
   "execution_count": 30,
   "id": "740320e8",
   "metadata": {},
   "outputs": [],
   "source": [
    "df_twitter = pd.concat([df_bottom_tweets[[\"twitter_rank\", \"Full_Abstract\"]], \n",
    "                        df_top_tweets[[\"twitter_rank\", \"Full_Abstract\"]]])\n",
    "\n",
    "df_twitter[\"Popularity\"] = df_twitter.twitter_rank.map(lambda x: \"Popular\" if x>0.5 else \"Less Popular\")\n"
   ]
  },
  {
   "cell_type": "code",
   "execution_count": 31,
   "id": "4aaf2b80",
   "metadata": {},
   "outputs": [],
   "source": [
    "# Build the corpus.\n",
    "\n",
    "corpus = st.CorpusFromPandas(\n",
    "    df_twitter,\n",
    "    category_col = \"Popularity\",\n",
    "    text_col = \"Full_Abstract\", \n",
    "    nlp=nlp\n",
    ").build()"
   ]
  },
  {
   "cell_type": "code",
   "execution_count": 32,
   "id": "559e6ead",
   "metadata": {},
   "outputs": [],
   "source": [
    "# Create the HTML.\n",
    "\n",
    "html = st.produce_scattertext_explorer(\n",
    "        corpus,\n",
    "        category= \"Popular\", \n",
    "        category_name=  \"Popular\", \n",
    "        not_category_name= \"Less Popular\", \n",
    "        minimum_term_frequency=6,\n",
    "        pmi_threshold_coefficient=0,\n",
    "        width_in_pixels=1000,\n",
    "        )"
   ]
  },
  {
   "cell_type": "code",
   "execution_count": 33,
   "id": "0f8abcc2",
   "metadata": {},
   "outputs": [],
   "source": [
    "# Explore the HTML.\n",
    "\n",
    "open('../images/abstract_popularity_words.html', 'wb').write(html.encode('utf-8'));"
   ]
  },
  {
   "cell_type": "markdown",
   "id": "0389ec2c",
   "metadata": {},
   "source": [
    "### Look at top phrases between popularity."
   ]
  },
  {
   "cell_type": "code",
   "execution_count": 34,
   "id": "b68a2a41",
   "metadata": {},
   "outputs": [],
   "source": [
    "# Create the corpus.\n",
    "\n",
    "corpus = st.CorpusFromPandas(\n",
    "    df_twitter,\n",
    "    category_col = \"Popularity\",\n",
    "    text_col = \"Full_Abstract\", \n",
    "    feats_from_spacy_doc=st.PhraseMachinePhrases(),\n",
    "    nlp=nlp\n",
    ").build().compact(st.AssociationCompactor(4000))"
   ]
  },
  {
   "cell_type": "code",
   "execution_count": 35,
   "id": "c1a68edb",
   "metadata": {},
   "outputs": [],
   "source": [
    "# Create the HTML.\n",
    "\n",
    "html = st.produce_scattertext_explorer(\n",
    "        corpus,\n",
    "        category= \"Popular\", \n",
    "        category_name=  \"Popular\", \n",
    "        not_category_name= \"Less Popular\", \n",
    "        minimum_term_frequency=0,\n",
    "        pmi_threshold_coefficient=0,\n",
    "        transform=st.dense_rank,\n",
    "        term_scorer=st.RankDifference(),\n",
    "        width_in_pixels=1000,\n",
    "        )"
   ]
  },
  {
   "cell_type": "code",
   "execution_count": 36,
   "id": "ff1d5c96",
   "metadata": {},
   "outputs": [],
   "source": [
    "# Explore the HTML.\n",
    "\n",
    "open('../images/abstract_popularity_phrases.html', 'wb').write(html.encode('utf-8'));"
   ]
  },
  {
   "cell_type": "code",
   "execution_count": null,
   "id": "5297313d",
   "metadata": {},
   "outputs": [],
   "source": []
  },
  {
   "cell_type": "markdown",
   "id": "adf4ae00",
   "metadata": {},
   "source": [
    "### Compare volumes - words."
   ]
  },
  {
   "cell_type": "code",
   "execution_count": 12,
   "id": "37dd3de2",
   "metadata": {},
   "outputs": [],
   "source": [
    "df_vol = df[[\"Volume\", \"Full_Abstract\"]]\n",
    "\n",
    "df_vol[\"Vol_cat\"] = df.Volume.apply(lambda x: f\"{x:.0f}\")"
   ]
  },
  {
   "cell_type": "code",
   "execution_count": 13,
   "id": "8cd230f8",
   "metadata": {},
   "outputs": [],
   "source": [
    "# Build the corpus.\n",
    "\n",
    "corpus = st.CorpusFromPandas(\n",
    "    df_vol,\n",
    "    category_col = \"Vol_cat\",\n",
    "    text_col = \"Full_Abstract\", \n",
    "    nlp=nlp\n",
    ").build()"
   ]
  },
  {
   "cell_type": "code",
   "execution_count": 14,
   "id": "a4efa5fa",
   "metadata": {},
   "outputs": [],
   "source": [
    "# Create the HTML.\n",
    "\n",
    "html = st.produce_scattertext_explorer(\n",
    "        corpus,\n",
    "        category= \"39\", \n",
    "        category_name= \"39\", \n",
    "        not_category_name= \"40\", \n",
    "        minimum_term_frequency=6,\n",
    "        pmi_threshold_coefficient=0,\n",
    "        width_in_pixels=1000,\n",
    "        )"
   ]
  },
  {
   "cell_type": "code",
   "execution_count": 15,
   "id": "b65154fc",
   "metadata": {},
   "outputs": [],
   "source": [
    "# Explore the HTML.\n",
    "\n",
    "open('../images/abstract_volume_words.html', 'wb').write(html.encode('utf-8'));"
   ]
  },
  {
   "cell_type": "markdown",
   "id": "8a7a50f3",
   "metadata": {},
   "source": [
    "### Compare volumes - phrases."
   ]
  },
  {
   "cell_type": "code",
   "execution_count": 16,
   "id": "cb89cd82",
   "metadata": {},
   "outputs": [],
   "source": [
    "# Create the corpus.\n",
    "\n",
    "corpus = st.CorpusFromPandas(\n",
    "    df_vol,\n",
    "    category_col = \"Vol_cat\",\n",
    "    text_col = \"Full_Abstract\", \n",
    "    feats_from_spacy_doc=st.PhraseMachinePhrases(),\n",
    "    nlp=nlp\n",
    ").build().compact(st.AssociationCompactor(4000))"
   ]
  },
  {
   "cell_type": "code",
   "execution_count": 17,
   "id": "4a80302e",
   "metadata": {},
   "outputs": [],
   "source": [
    "# Create the HTML.\n",
    "\n",
    "html = st.produce_scattertext_explorer(\n",
    "        corpus,\n",
    "        category= \"39\", \n",
    "        category_name= \"39\", \n",
    "        not_category_name= \"40\", \n",
    "        minimum_term_frequency=0,\n",
    "        pmi_threshold_coefficient=0,\n",
    "        transform=st.dense_rank,\n",
    "        term_scorer=st.RankDifference(),\n",
    "        width_in_pixels=1000,\n",
    "        )"
   ]
  },
  {
   "cell_type": "code",
   "execution_count": 18,
   "id": "df15a166",
   "metadata": {},
   "outputs": [],
   "source": [
    "# Explore the HTML.\n",
    "\n",
    "open('../images/abstract_volume_phrases.html', 'wb').write(html.encode('utf-8'));"
   ]
  },
  {
   "cell_type": "code",
   "execution_count": null,
   "id": "4882b7af",
   "metadata": {},
   "outputs": [],
   "source": []
  },
  {
   "cell_type": "markdown",
   "id": "978a2ab8",
   "metadata": {},
   "source": [
    "# Titles\n",
    "---"
   ]
  },
  {
   "cell_type": "markdown",
   "id": "493345c3",
   "metadata": {},
   "source": [
    "### Compare volumes - Words"
   ]
  },
  {
   "cell_type": "code",
   "execution_count": 19,
   "id": "ee352930",
   "metadata": {},
   "outputs": [],
   "source": [
    "df_vol = df[[\"Volume\", \"Title\"]]\n",
    "\n",
    "df_vol[\"Vol_cat\"] = df.Volume.apply(lambda x: f\"{x:.0f}\")"
   ]
  },
  {
   "cell_type": "code",
   "execution_count": 20,
   "id": "3d00b764",
   "metadata": {},
   "outputs": [],
   "source": [
    "# Build the corpus.\n",
    "corpus = st.CorpusFromPandas(\n",
    "    df_vol,\n",
    "    category_col = \"Vol_cat\",\n",
    "    text_col = \"Title\", \n",
    "    nlp=nlp\n",
    ").build()\n",
    "\n",
    "# Create the HTML.\n",
    "html = st.produce_scattertext_explorer(\n",
    "        corpus,\n",
    "        category= \"39\", \n",
    "        category_name= \"39\", \n",
    "        not_category_name= \"40\", \n",
    "        minimum_term_frequency=6,\n",
    "        pmi_threshold_coefficient=0,\n",
    "        width_in_pixels=1000,\n",
    "        )\n",
    "\n",
    "# Explore the HTML.\n",
    "open('../images/title_volume_words.html', 'wb').write(html.encode('utf-8'));"
   ]
  },
  {
   "cell_type": "markdown",
   "id": "52f25257",
   "metadata": {},
   "source": [
    "### Compare volumes - phrases."
   ]
  },
  {
   "cell_type": "code",
   "execution_count": 21,
   "id": "72e23114",
   "metadata": {},
   "outputs": [],
   "source": [
    "# Create the corpus.\n",
    "corpus = st.CorpusFromPandas(\n",
    "    df_vol,\n",
    "    category_col = \"Vol_cat\",\n",
    "    text_col = \"Title\", \n",
    "    feats_from_spacy_doc=st.PhraseMachinePhrases(),\n",
    "    nlp=nlp\n",
    ").build().compact(st.AssociationCompactor(4000))\n",
    "\n",
    "# Create the HTML.\n",
    "html = st.produce_scattertext_explorer(\n",
    "        corpus,\n",
    "        category= \"39\", \n",
    "        category_name= \"39\", \n",
    "        not_category_name= \"40\", \n",
    "        minimum_term_frequency=0,\n",
    "        pmi_threshold_coefficient=0,\n",
    "        transform=st.dense_rank,\n",
    "        term_scorer=st.RankDifference(),\n",
    "        width_in_pixels=1000,\n",
    "        )\n",
    "\n",
    "# Explore the HTML.\n",
    "open('../images/title_volume_phrases.html', 'wb').write(html.encode('utf-8'));"
   ]
  },
  {
   "cell_type": "code",
   "execution_count": null,
   "id": "7bcd3a33",
   "metadata": {},
   "outputs": [],
   "source": []
  },
  {
   "cell_type": "markdown",
   "id": "48d5e84c",
   "metadata": {},
   "source": [
    "### Compare popularity - Words."
   ]
  },
  {
   "cell_type": "code",
   "execution_count": 27,
   "id": "ceece8ac",
   "metadata": {},
   "outputs": [],
   "source": [
    "df_twitter = pd.concat([df_bottom_tweets[[\"twitter_rank\", \"Title\"]], \n",
    "                        df_top_tweets[[\"twitter_rank\", \"Title\"]]])\n",
    "\n",
    "df_twitter[\"Popularity\"] = df_twitter.twitter_rank.map(lambda x: \"Popular\" if x>0.5 else \"Less Popular\")\n"
   ]
  },
  {
   "cell_type": "code",
   "execution_count": 28,
   "id": "a85e6cf9",
   "metadata": {},
   "outputs": [],
   "source": [
    "# Build the corpus.\n",
    "corpus = st.CorpusFromPandas(\n",
    "    df_twitter,\n",
    "    category_col = \"Popularity\",\n",
    "    text_col = \"Title\", \n",
    "    nlp=nlp\n",
    ").build()\n",
    "\n",
    "# Create the HTML.\n",
    "html = st.produce_scattertext_explorer(\n",
    "        corpus,\n",
    "        category= \"Popular\", \n",
    "        category_name=  \"Popular\", \n",
    "        not_category_name= \"Less Popular\", \n",
    "        minimum_term_frequency=6,\n",
    "        pmi_threshold_coefficient=0,\n",
    "        width_in_pixels=1000,\n",
    "        )\n",
    "\n",
    "# Explore the HTML.\n",
    "open('../images/title_popularity_words.html', 'wb').write(html.encode('utf-8'));"
   ]
  },
  {
   "cell_type": "markdown",
   "id": "da9bf6f6",
   "metadata": {},
   "source": [
    "### Compare popularity - Phrases."
   ]
  },
  {
   "cell_type": "code",
   "execution_count": 29,
   "id": "6026d125",
   "metadata": {},
   "outputs": [],
   "source": [
    "# Create the corpus.\n",
    "corpus = st.CorpusFromPandas(\n",
    "    df_twitter,\n",
    "    category_col = \"Popularity\",\n",
    "    text_col = \"Title\", \n",
    "    feats_from_spacy_doc=st.PhraseMachinePhrases(),\n",
    "    nlp=nlp\n",
    ").build().compact(st.AssociationCompactor(4000))\n",
    "\n",
    "# Create the HTML.\n",
    "html = st.produce_scattertext_explorer(\n",
    "        corpus,\n",
    "        category= \"Popular\", \n",
    "        category_name=  \"Popular\", \n",
    "        not_category_name= \"Less Popular\", \n",
    "        minimum_term_frequency=0,\n",
    "        pmi_threshold_coefficient=0,\n",
    "        transform=st.dense_rank,\n",
    "        term_scorer=st.RankDifference(),\n",
    "        width_in_pixels=1000,\n",
    "        )\n",
    "\n",
    "# Explore the HTML.\n",
    "open('../images/title_popularity_phrases.html', 'wb').write(html.encode('utf-8'));"
   ]
  },
  {
   "cell_type": "code",
   "execution_count": null,
   "id": "c984c308",
   "metadata": {},
   "outputs": [],
   "source": []
  }
 ],
 "metadata": {
  "kernelspec": {
   "display_name": "Python 3",
   "language": "python",
   "name": "python3"
  },
  "language_info": {
   "codemirror_mode": {
    "name": "ipython",
    "version": 3
   },
   "file_extension": ".py",
   "mimetype": "text/x-python",
   "name": "python",
   "nbconvert_exporter": "python",
   "pygments_lexer": "ipython3",
   "version": "3.8.11"
  }
 },
 "nbformat": 4,
 "nbformat_minor": 5
}
